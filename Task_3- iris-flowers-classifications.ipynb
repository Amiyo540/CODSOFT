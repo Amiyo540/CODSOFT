{
 "cells": [
  {
   "cell_type": "markdown",
   "id": "9a01a487",
   "metadata": {
    "papermill": {
     "duration": 0.006732,
     "end_time": "2025-04-02T13:47:23.102251",
     "exception": false,
     "start_time": "2025-04-02T13:47:23.095519",
     "status": "completed"
    },
    "tags": []
   },
   "source": [
    "# Import Libraries"
   ]
  },
  {
   "cell_type": "code",
   "execution_count": 1,
   "id": "08d1d0f0",
   "metadata": {
    "_cell_guid": "b1076dfc-b9ad-4769-8c92-a6c4dae69d19",
    "_uuid": "8f2839f25d086af736a60e9eeb907d3b93b6e0e5",
    "execution": {
     "iopub.execute_input": "2025-04-02T13:47:23.116020Z",
     "iopub.status.busy": "2025-04-02T13:47:23.115661Z",
     "iopub.status.idle": "2025-04-02T13:47:26.082153Z",
     "shell.execute_reply": "2025-04-02T13:47:26.081319Z"
    },
    "papermill": {
     "duration": 2.975359,
     "end_time": "2025-04-02T13:47:26.083850",
     "exception": false,
     "start_time": "2025-04-02T13:47:23.108491",
     "status": "completed"
    },
    "tags": []
   },
   "outputs": [],
   "source": [
    "# Import necessary libraries\n",
    "import numpy as np\n",
    "import pandas as pd\n",
    "from sklearn.datasets import load_iris\n",
    "from sklearn.model_selection import train_test_split\n",
    "from sklearn.preprocessing import StandardScaler\n",
    "from sklearn.ensemble import RandomForestClassifier\n",
    "from sklearn.metrics import accuracy_score, confusion_matrix, classification_report\n",
    "import seaborn as sns\n",
    "import matplotlib.pyplot as plt"
   ]
  },
  {
   "cell_type": "markdown",
   "id": "fe97c418",
   "metadata": {
    "papermill": {
     "duration": 0.005715,
     "end_time": "2025-04-02T13:47:26.095906",
     "exception": false,
     "start_time": "2025-04-02T13:47:26.090191",
     "status": "completed"
    },
    "tags": []
   },
   "source": [
    "# Loading data"
   ]
  },
  {
   "cell_type": "code",
   "execution_count": 2,
   "id": "919c9f48",
   "metadata": {
    "execution": {
     "iopub.execute_input": "2025-04-02T13:47:26.109066Z",
     "iopub.status.busy": "2025-04-02T13:47:26.108588Z",
     "iopub.status.idle": "2025-04-02T13:47:26.126887Z",
     "shell.execute_reply": "2025-04-02T13:47:26.126095Z"
    },
    "papermill": {
     "duration": 0.026875,
     "end_time": "2025-04-02T13:47:26.128666",
     "exception": false,
     "start_time": "2025-04-02T13:47:26.101791",
     "status": "completed"
    },
    "tags": []
   },
   "outputs": [],
   "source": [
    "# 1. Load the Iris dataset\n",
    "iris = pd.read_csv(\"/kaggle/input/iris-flower-dataset/IRIS.csv\")"
   ]
  },
  {
   "cell_type": "code",
   "execution_count": 3,
   "id": "e2e5954f",
   "metadata": {
    "execution": {
     "iopub.execute_input": "2025-04-02T13:47:26.142110Z",
     "iopub.status.busy": "2025-04-02T13:47:26.141757Z",
     "iopub.status.idle": "2025-04-02T13:47:26.145692Z",
     "shell.execute_reply": "2025-04-02T13:47:26.144861Z"
    },
    "papermill": {
     "duration": 0.012122,
     "end_time": "2025-04-02T13:47:26.147073",
     "exception": false,
     "start_time": "2025-04-02T13:47:26.134951",
     "status": "completed"
    },
    "tags": []
   },
   "outputs": [],
   "source": [
    "# Create a DataFrame with the dataset\n",
    "df = pd.DataFrame(iris)"
   ]
  },
  {
   "cell_type": "code",
   "execution_count": 4,
   "id": "4177458c",
   "metadata": {
    "execution": {
     "iopub.execute_input": "2025-04-02T13:47:26.160582Z",
     "iopub.status.busy": "2025-04-02T13:47:26.160258Z",
     "iopub.status.idle": "2025-04-02T13:47:26.184935Z",
     "shell.execute_reply": "2025-04-02T13:47:26.183914Z"
    },
    "papermill": {
     "duration": 0.033179,
     "end_time": "2025-04-02T13:47:26.186591",
     "exception": false,
     "start_time": "2025-04-02T13:47:26.153412",
     "status": "completed"
    },
    "tags": []
   },
   "outputs": [
    {
     "data": {
      "text/html": [
       "<div>\n",
       "<style scoped>\n",
       "    .dataframe tbody tr th:only-of-type {\n",
       "        vertical-align: middle;\n",
       "    }\n",
       "\n",
       "    .dataframe tbody tr th {\n",
       "        vertical-align: top;\n",
       "    }\n",
       "\n",
       "    .dataframe thead th {\n",
       "        text-align: right;\n",
       "    }\n",
       "</style>\n",
       "<table border=\"1\" class=\"dataframe\">\n",
       "  <thead>\n",
       "    <tr style=\"text-align: right;\">\n",
       "      <th></th>\n",
       "      <th>sepal_length</th>\n",
       "      <th>sepal_width</th>\n",
       "      <th>petal_length</th>\n",
       "      <th>petal_width</th>\n",
       "      <th>species</th>\n",
       "    </tr>\n",
       "  </thead>\n",
       "  <tbody>\n",
       "    <tr>\n",
       "      <th>0</th>\n",
       "      <td>5.1</td>\n",
       "      <td>3.5</td>\n",
       "      <td>1.4</td>\n",
       "      <td>0.2</td>\n",
       "      <td>Iris-setosa</td>\n",
       "    </tr>\n",
       "    <tr>\n",
       "      <th>1</th>\n",
       "      <td>4.9</td>\n",
       "      <td>3.0</td>\n",
       "      <td>1.4</td>\n",
       "      <td>0.2</td>\n",
       "      <td>Iris-setosa</td>\n",
       "    </tr>\n",
       "    <tr>\n",
       "      <th>2</th>\n",
       "      <td>4.7</td>\n",
       "      <td>3.2</td>\n",
       "      <td>1.3</td>\n",
       "      <td>0.2</td>\n",
       "      <td>Iris-setosa</td>\n",
       "    </tr>\n",
       "    <tr>\n",
       "      <th>3</th>\n",
       "      <td>4.6</td>\n",
       "      <td>3.1</td>\n",
       "      <td>1.5</td>\n",
       "      <td>0.2</td>\n",
       "      <td>Iris-setosa</td>\n",
       "    </tr>\n",
       "    <tr>\n",
       "      <th>4</th>\n",
       "      <td>5.0</td>\n",
       "      <td>3.6</td>\n",
       "      <td>1.4</td>\n",
       "      <td>0.2</td>\n",
       "      <td>Iris-setosa</td>\n",
       "    </tr>\n",
       "  </tbody>\n",
       "</table>\n",
       "</div>"
      ],
      "text/plain": [
       "   sepal_length  sepal_width  petal_length  petal_width      species\n",
       "0           5.1          3.5           1.4          0.2  Iris-setosa\n",
       "1           4.9          3.0           1.4          0.2  Iris-setosa\n",
       "2           4.7          3.2           1.3          0.2  Iris-setosa\n",
       "3           4.6          3.1           1.5          0.2  Iris-setosa\n",
       "4           5.0          3.6           1.4          0.2  Iris-setosa"
      ]
     },
     "execution_count": 4,
     "metadata": {},
     "output_type": "execute_result"
    }
   ],
   "source": [
    "df.head()"
   ]
  },
  {
   "cell_type": "code",
   "execution_count": 5,
   "id": "3973fbc0",
   "metadata": {
    "execution": {
     "iopub.execute_input": "2025-04-02T13:47:26.200442Z",
     "iopub.status.busy": "2025-04-02T13:47:26.200059Z",
     "iopub.status.idle": "2025-04-02T13:47:26.224536Z",
     "shell.execute_reply": "2025-04-02T13:47:26.223200Z"
    },
    "papermill": {
     "duration": 0.033242,
     "end_time": "2025-04-02T13:47:26.226236",
     "exception": false,
     "start_time": "2025-04-02T13:47:26.192994",
     "status": "completed"
    },
    "tags": []
   },
   "outputs": [
    {
     "name": "stdout",
     "output_type": "stream",
     "text": [
      "<class 'pandas.core.frame.DataFrame'>\n",
      "RangeIndex: 150 entries, 0 to 149\n",
      "Data columns (total 5 columns):\n",
      " #   Column        Non-Null Count  Dtype  \n",
      "---  ------        --------------  -----  \n",
      " 0   sepal_length  150 non-null    float64\n",
      " 1   sepal_width   150 non-null    float64\n",
      " 2   petal_length  150 non-null    float64\n",
      " 3   petal_width   150 non-null    float64\n",
      " 4   species       150 non-null    object \n",
      "dtypes: float64(4), object(1)\n",
      "memory usage: 6.0+ KB\n"
     ]
    }
   ],
   "source": [
    "df.info()"
   ]
  },
  {
   "cell_type": "code",
   "execution_count": 6,
   "id": "4b0aa08b",
   "metadata": {
    "execution": {
     "iopub.execute_input": "2025-04-02T13:47:26.242562Z",
     "iopub.status.busy": "2025-04-02T13:47:26.242218Z",
     "iopub.status.idle": "2025-04-02T13:47:26.270002Z",
     "shell.execute_reply": "2025-04-02T13:47:26.268892Z"
    },
    "papermill": {
     "duration": 0.038454,
     "end_time": "2025-04-02T13:47:26.271684",
     "exception": false,
     "start_time": "2025-04-02T13:47:26.233230",
     "status": "completed"
    },
    "tags": []
   },
   "outputs": [
    {
     "name": "stderr",
     "output_type": "stream",
     "text": [
      "/usr/local/lib/python3.10/dist-packages/pandas/io/formats/format.py:1458: RuntimeWarning: invalid value encountered in greater\n",
      "  has_large_values = (abs_vals > 1e6).any()\n",
      "/usr/local/lib/python3.10/dist-packages/pandas/io/formats/format.py:1459: RuntimeWarning: invalid value encountered in less\n",
      "  has_small_values = ((abs_vals < 10 ** (-self.digits)) & (abs_vals > 0)).any()\n",
      "/usr/local/lib/python3.10/dist-packages/pandas/io/formats/format.py:1459: RuntimeWarning: invalid value encountered in greater\n",
      "  has_small_values = ((abs_vals < 10 ** (-self.digits)) & (abs_vals > 0)).any()\n"
     ]
    },
    {
     "data": {
      "text/html": [
       "<div>\n",
       "<style scoped>\n",
       "    .dataframe tbody tr th:only-of-type {\n",
       "        vertical-align: middle;\n",
       "    }\n",
       "\n",
       "    .dataframe tbody tr th {\n",
       "        vertical-align: top;\n",
       "    }\n",
       "\n",
       "    .dataframe thead th {\n",
       "        text-align: right;\n",
       "    }\n",
       "</style>\n",
       "<table border=\"1\" class=\"dataframe\">\n",
       "  <thead>\n",
       "    <tr style=\"text-align: right;\">\n",
       "      <th></th>\n",
       "      <th>sepal_length</th>\n",
       "      <th>sepal_width</th>\n",
       "      <th>petal_length</th>\n",
       "      <th>petal_width</th>\n",
       "      <th>species</th>\n",
       "    </tr>\n",
       "  </thead>\n",
       "  <tbody>\n",
       "    <tr>\n",
       "      <th>count</th>\n",
       "      <td>150.000000</td>\n",
       "      <td>150.000000</td>\n",
       "      <td>150.000000</td>\n",
       "      <td>150.000000</td>\n",
       "      <td>150</td>\n",
       "    </tr>\n",
       "    <tr>\n",
       "      <th>unique</th>\n",
       "      <td>NaN</td>\n",
       "      <td>NaN</td>\n",
       "      <td>NaN</td>\n",
       "      <td>NaN</td>\n",
       "      <td>3</td>\n",
       "    </tr>\n",
       "    <tr>\n",
       "      <th>top</th>\n",
       "      <td>NaN</td>\n",
       "      <td>NaN</td>\n",
       "      <td>NaN</td>\n",
       "      <td>NaN</td>\n",
       "      <td>Iris-setosa</td>\n",
       "    </tr>\n",
       "    <tr>\n",
       "      <th>freq</th>\n",
       "      <td>NaN</td>\n",
       "      <td>NaN</td>\n",
       "      <td>NaN</td>\n",
       "      <td>NaN</td>\n",
       "      <td>50</td>\n",
       "    </tr>\n",
       "    <tr>\n",
       "      <th>mean</th>\n",
       "      <td>5.843333</td>\n",
       "      <td>3.054000</td>\n",
       "      <td>3.758667</td>\n",
       "      <td>1.198667</td>\n",
       "      <td>NaN</td>\n",
       "    </tr>\n",
       "    <tr>\n",
       "      <th>std</th>\n",
       "      <td>0.828066</td>\n",
       "      <td>0.433594</td>\n",
       "      <td>1.764420</td>\n",
       "      <td>0.763161</td>\n",
       "      <td>NaN</td>\n",
       "    </tr>\n",
       "    <tr>\n",
       "      <th>min</th>\n",
       "      <td>4.300000</td>\n",
       "      <td>2.000000</td>\n",
       "      <td>1.000000</td>\n",
       "      <td>0.100000</td>\n",
       "      <td>NaN</td>\n",
       "    </tr>\n",
       "    <tr>\n",
       "      <th>25%</th>\n",
       "      <td>5.100000</td>\n",
       "      <td>2.800000</td>\n",
       "      <td>1.600000</td>\n",
       "      <td>0.300000</td>\n",
       "      <td>NaN</td>\n",
       "    </tr>\n",
       "    <tr>\n",
       "      <th>50%</th>\n",
       "      <td>5.800000</td>\n",
       "      <td>3.000000</td>\n",
       "      <td>4.350000</td>\n",
       "      <td>1.300000</td>\n",
       "      <td>NaN</td>\n",
       "    </tr>\n",
       "    <tr>\n",
       "      <th>75%</th>\n",
       "      <td>6.400000</td>\n",
       "      <td>3.300000</td>\n",
       "      <td>5.100000</td>\n",
       "      <td>1.800000</td>\n",
       "      <td>NaN</td>\n",
       "    </tr>\n",
       "    <tr>\n",
       "      <th>max</th>\n",
       "      <td>7.900000</td>\n",
       "      <td>4.400000</td>\n",
       "      <td>6.900000</td>\n",
       "      <td>2.500000</td>\n",
       "      <td>NaN</td>\n",
       "    </tr>\n",
       "  </tbody>\n",
       "</table>\n",
       "</div>"
      ],
      "text/plain": [
       "        sepal_length  sepal_width  petal_length  petal_width      species\n",
       "count     150.000000   150.000000    150.000000   150.000000          150\n",
       "unique           NaN          NaN           NaN          NaN            3\n",
       "top              NaN          NaN           NaN          NaN  Iris-setosa\n",
       "freq             NaN          NaN           NaN          NaN           50\n",
       "mean        5.843333     3.054000      3.758667     1.198667          NaN\n",
       "std         0.828066     0.433594      1.764420     0.763161          NaN\n",
       "min         4.300000     2.000000      1.000000     0.100000          NaN\n",
       "25%         5.100000     2.800000      1.600000     0.300000          NaN\n",
       "50%         5.800000     3.000000      4.350000     1.300000          NaN\n",
       "75%         6.400000     3.300000      5.100000     1.800000          NaN\n",
       "max         7.900000     4.400000      6.900000     2.500000          NaN"
      ]
     },
     "execution_count": 6,
     "metadata": {},
     "output_type": "execute_result"
    }
   ],
   "source": [
    "df.describe(include=\"all\")"
   ]
  },
  {
   "cell_type": "markdown",
   "id": "c9028b52",
   "metadata": {
    "papermill": {
     "duration": 0.006181,
     "end_time": "2025-04-02T13:47:26.284471",
     "exception": false,
     "start_time": "2025-04-02T13:47:26.278290",
     "status": "completed"
    },
    "tags": []
   },
   "source": [
    "# Data Visualization: Distribution of features"
   ]
  },
  {
   "cell_type": "markdown",
   "id": "8330473b",
   "metadata": {
    "papermill": {
     "duration": 0.006967,
     "end_time": "2025-04-02T13:47:26.298128",
     "exception": false,
     "start_time": "2025-04-02T13:47:26.291161",
     "status": "completed"
    },
    "tags": []
   },
   "source": []
  },
  {
   "cell_type": "code",
   "execution_count": 7,
   "id": "a66104aa",
   "metadata": {
    "execution": {
     "iopub.execute_input": "2025-04-02T13:47:26.312965Z",
     "iopub.status.busy": "2025-04-02T13:47:26.312623Z",
     "iopub.status.idle": "2025-04-02T13:47:26.757230Z",
     "shell.execute_reply": "2025-04-02T13:47:26.756170Z"
    },
    "papermill": {
     "duration": 0.453933,
     "end_time": "2025-04-02T13:47:26.758725",
     "exception": false,
     "start_time": "2025-04-02T13:47:26.304792",
     "status": "completed"
    },
    "tags": []
   },
   "outputs": [
    {
     "name": "stderr",
     "output_type": "stream",
     "text": [
      "/usr/local/lib/python3.10/dist-packages/seaborn/_oldcore.py:1119: FutureWarning: use_inf_as_na option is deprecated and will be removed in a future version. Convert inf values to NaN before operating instead.\n",
      "  with pd.option_context('mode.use_inf_as_na', True):\n"
     ]
    },
    {
     "data": {
      "image/png": "[encoded data removed]",
      "text/plain": [
       "<Figure size 800x600 with 1 Axes>"
      ]
     },
     "metadata": {},
     "output_type": "display_data"
    }
   ],
   "source": [
    "# Sepal Length Distribution\n",
    "plt.figure(figsize=(8, 6))\n",
    "sns.histplot(df['sepal_length'], kde=True, color='blue', bins=20)\n",
    "plt.title(\"Distribution of Sepal Length\")\n",
    "plt.xlabel(\"Sepal Length (cm)\")\n",
    "plt.ylabel(\"Frequency\")\n",
    "plt.show()"
   ]
  },
  {
   "cell_type": "code",
   "execution_count": 8,
   "id": "0606157a",
   "metadata": {
    "execution": {
     "iopub.execute_input": "2025-04-02T13:47:26.774638Z",
     "iopub.status.busy": "2025-04-02T13:47:26.774301Z",
     "iopub.status.idle": "2025-04-02T13:47:27.005800Z",
     "shell.execute_reply": "2025-04-02T13:47:27.004817Z"
    },
    "papermill": {
     "duration": 0.241374,
     "end_time": "2025-04-02T13:47:27.007476",
     "exception": false,
     "start_time": "2025-04-02T13:47:26.766102",
     "status": "completed"
    },
    "tags": []
   },
   "outputs": [
    {
     "name": "stderr",
     "output_type": "stream",
     "text": [
      "/usr/local/lib/python3.10/dist-packages/seaborn/_oldcore.py:1119: FutureWarning: use_inf_as_na option is deprecated and will be removed in a future version. Convert inf values to NaN before operating instead.\n",
      "  with pd.option_context('mode.use_inf_as_na', True):\n"
     ]
    },
    {
     "data": {
      "image/png": "[encoded data removed]",
      "text/plain": [
       "<Figure size 800x600 with 1 Axes>"
      ]
     },
     "metadata": {},
     "output_type": "display_data"
    }
   ],
   "source": [
    "# Sepal Width Distribution\n",
    "plt.figure(figsize=(8, 6))\n",
    "sns.histplot(df['sepal_width'], kde=True, color='green', bins=20)\n",
    "plt.title(\"Distribution of Sepal Width\")\n",
    "plt.xlabel(\"Sepal Width (cm)\")\n",
    "plt.ylabel(\"Frequency\")\n",
    "plt.show()"
   ]
  },
  {
   "cell_type": "code",
   "execution_count": 9,
   "id": "15d104c8",
   "metadata": {
    "execution": {
     "iopub.execute_input": "2025-04-02T13:47:27.024820Z",
     "iopub.status.busy": "2025-04-02T13:47:27.024484Z",
     "iopub.status.idle": "2025-04-02T13:47:27.263195Z",
     "shell.execute_reply": "2025-04-02T13:47:27.262179Z"
    },
    "papermill": {
     "duration": 0.248978,
     "end_time": "2025-04-02T13:47:27.264705",
     "exception": false,
     "start_time": "2025-04-02T13:47:27.015727",
     "status": "completed"
    },
    "tags": []
   },
   "outputs": [
    {
     "name": "stderr",
     "output_type": "stream",
     "text": [
      "/usr/local/lib/python3.10/dist-packages/seaborn/_oldcore.py:1119: FutureWarning: use_inf_as_na option is deprecated and will be removed in a future version. Convert inf values to NaN before operating instead.\n",
      "  with pd.option_context('mode.use_inf_as_na', True):\n"
     ]
    },
    {
     "data": {
      "image/png": "[encoded data removed]",
      "text/plain": [
       "<Figure size 800x600 with 1 Axes>"
      ]
     },
     "metadata": {},
     "output_type": "display_data"
    }
   ],
   "source": [
    "# Petal Length Distribution\n",
    "plt.figure(figsize=(8, 6))\n",
    "sns.histplot(df['petal_length'], kde=True, color='red', bins=20)\n",
    "plt.title(\"Distribution of Petal Length\")\n",
    "plt.xlabel(\"Petal Length (cm)\")\n",
    "plt.ylabel(\"Frequency\")\n",
    "plt.show()"
   ]
  },
  {
   "cell_type": "code",
   "execution_count": 10,
   "id": "a082c92f",
   "metadata": {
    "execution": {
     "iopub.execute_input": "2025-04-02T13:47:27.284326Z",
     "iopub.status.busy": "2025-04-02T13:47:27.283950Z",
     "iopub.status.idle": "2025-04-02T13:47:27.523713Z",
     "shell.execute_reply": "2025-04-02T13:47:27.522699Z"
    },
    "papermill": {
     "duration": 0.251656,
     "end_time": "2025-04-02T13:47:27.525353",
     "exception": false,
     "start_time": "2025-04-02T13:47:27.273697",
     "status": "completed"
    },
    "tags": []
   },
   "outputs": [
    {
     "name": "stderr",
     "output_type": "stream",
     "text": [
      "/usr/local/lib/python3.10/dist-packages/seaborn/_oldcore.py:1119: FutureWarning: use_inf_as_na option is deprecated and will be removed in a future version. Convert inf values to NaN before operating instead.\n",
      "  with pd.option_context('mode.use_inf_as_na', True):\n"
     ]
    },
    {
     "data": {
      "image/png": "[encoded data removed]",
      "text/plain": [
       "<Figure size 800x600 with 1 Axes>"
      ]
     },
     "metadata": {},
     "output_type": "display_data"
    }
   ],
   "source": [
    "# Petal Width Distribution\n",
    "plt.figure(figsize=(8, 6))\n",
    "sns.histplot(df['petal_width'], kde=True, color='purple', bins=20)\n",
    "plt.title(\"Distribution of Petal Width\")\n",
    "plt.xlabel(\"Petal Width (cm)\")\n",
    "plt.ylabel(\"Frequency\")\n",
    "plt.show()"
   ]
  },
  {
   "cell_type": "markdown",
   "id": "12cd3499",
   "metadata": {
    "papermill": {
     "duration": 0.00904,
     "end_time": "2025-04-02T13:47:27.543806",
     "exception": false,
     "start_time": "2025-04-02T13:47:27.534766",
     "status": "completed"
    },
    "tags": []
   },
   "source": [
    "**Correlation Matrix for Feature Relationships**"
   ]
  },
  {
   "cell_type": "code",
   "execution_count": 11,
   "id": "54ab61ef",
   "metadata": {
    "execution": {
     "iopub.execute_input": "2025-04-02T13:47:27.563698Z",
     "iopub.status.busy": "2025-04-02T13:47:27.563345Z",
     "iopub.status.idle": "2025-04-02T13:47:27.828258Z",
     "shell.execute_reply": "2025-04-02T13:47:27.827185Z"
    },
    "papermill": {
     "duration": 0.276794,
     "end_time": "2025-04-02T13:47:27.830012",
     "exception": false,
     "start_time": "2025-04-02T13:47:27.553218",
     "status": "completed"
    },
    "tags": []
   },
   "outputs": [
    {
     "data": {
      "image/png": "[encoded data removed]",
      "text/plain": [
       "<Figure size 800x600 with 2 Axes>"
      ]
     },
     "metadata": {},
     "output_type": "display_data"
    }
   ],
   "source": [
    "plt.figure(figsize=(8, 6))\n",
    "sns.heatmap(df.drop(columns=[\"species\"]).corr(), annot=True, cmap=\"coolwarm\", fmt=\".2f\", linewidths=0.5)\n",
    "plt.title(\"Correlation Matrix\")\n",
    "plt.show()"
   ]
  },
  {
   "cell_type": "markdown",
   "id": "53724ddb",
   "metadata": {
    "papermill": {
     "duration": 0.011247,
     "end_time": "2025-04-02T13:47:27.853689",
     "exception": false,
     "start_time": "2025-04-02T13:47:27.842442",
     "status": "completed"
    },
    "tags": []
   },
   "source": [
    "# Modeling"
   ]
  },
  {
   "cell_type": "code",
   "execution_count": 12,
   "id": "d80c39df",
   "metadata": {
    "execution": {
     "iopub.execute_input": "2025-04-02T13:47:27.875718Z",
     "iopub.status.busy": "2025-04-02T13:47:27.875361Z",
     "iopub.status.idle": "2025-04-02T13:47:27.880344Z",
     "shell.execute_reply": "2025-04-02T13:47:27.879389Z"
    },
    "papermill": {
     "duration": 0.017646,
     "end_time": "2025-04-02T13:47:27.881776",
     "exception": false,
     "start_time": "2025-04-02T13:47:27.864130",
     "status": "completed"
    },
    "tags": []
   },
   "outputs": [],
   "source": [
    "X = df.drop(columns=['species'])  # Features\n",
    "y = df['species']  # Target variable (species)"
   ]
  },
  {
   "cell_type": "code",
   "execution_count": 13,
   "id": "d3d077e7",
   "metadata": {
    "execution": {
     "iopub.execute_input": "2025-04-02T13:47:27.903510Z",
     "iopub.status.busy": "2025-04-02T13:47:27.903181Z",
     "iopub.status.idle": "2025-04-02T13:47:27.908875Z",
     "shell.execute_reply": "2025-04-02T13:47:27.907887Z"
    },
    "papermill": {
     "duration": 0.018355,
     "end_time": "2025-04-02T13:47:27.910542",
     "exception": false,
     "start_time": "2025-04-02T13:47:27.892187",
     "status": "completed"
    },
    "tags": []
   },
   "outputs": [],
   "source": [
    "# 5. Split the data into training and testing sets (80% train, 20% test)\n",
    "X_train, X_test, y_train, y_test = train_test_split(X, y, test_size=0.2, random_state=42)"
   ]
  },
  {
   "cell_type": "markdown",
   "id": "5a61bc87",
   "metadata": {
    "papermill": {
     "duration": 0.009923,
     "end_time": "2025-04-02T13:47:27.930627",
     "exception": false,
     "start_time": "2025-04-02T13:47:27.920704",
     "status": "completed"
    },
    "tags": []
   },
   "source": [
    "**Feature scaling**"
   ]
  },
  {
   "cell_type": "code",
   "execution_count": 14,
   "id": "dc51deb8",
   "metadata": {
    "execution": {
     "iopub.execute_input": "2025-04-02T13:47:27.952023Z",
     "iopub.status.busy": "2025-04-02T13:47:27.951693Z",
     "iopub.status.idle": "2025-04-02T13:47:27.959662Z",
     "shell.execute_reply": "2025-04-02T13:47:27.958810Z"
    },
    "papermill": {
     "duration": 0.020459,
     "end_time": "2025-04-02T13:47:27.961201",
     "exception": false,
     "start_time": "2025-04-02T13:47:27.940742",
     "status": "completed"
    },
    "tags": []
   },
   "outputs": [],
   "source": [
    "# 6. Scale the features using StandardScaler\n",
    "scaler = StandardScaler()\n",
    "X_train_scaled = scaler.fit_transform(X_train)\n",
    "X_test_scaled = scaler.transform(X_test)"
   ]
  },
  {
   "cell_type": "code",
   "execution_count": 15,
   "id": "d0fc61a1",
   "metadata": {
    "execution": {
     "iopub.execute_input": "2025-04-02T13:47:27.982770Z",
     "iopub.status.busy": "2025-04-02T13:47:27.982441Z",
     "iopub.status.idle": "2025-04-02T13:47:28.242710Z",
     "shell.execute_reply": "2025-04-02T13:47:28.241614Z"
    },
    "papermill": {
     "duration": 0.27346,
     "end_time": "2025-04-02T13:47:28.244995",
     "exception": false,
     "start_time": "2025-04-02T13:47:27.971535",
     "status": "completed"
    },
    "tags": []
   },
   "outputs": [
    {
     "name": "stdout",
     "output_type": "stream",
     "text": [
      "Training class distribution: (array(['Iris-setosa', 'Iris-versicolor', 'Iris-virginica'], dtype=object), array([40, 41, 39]))\n",
      "Test class distribution: (array(['Iris-setosa', 'Iris-versicolor', 'Iris-virginica'], dtype=object), array([10,  9, 11]))\n",
      "Resampled class distribution: (array(['Iris-setosa', 'Iris-versicolor', 'Iris-virginica'], dtype=object), array([41, 41, 41]))\n"
     ]
    }
   ],
   "source": [
    "import numpy as np\n",
    "\n",
    "# Check training set distribution\n",
    "print(\"Training class distribution:\", np.unique(y_train, return_counts=True))\n",
    "\n",
    "# Check test set distribution\n",
    "print(\"Test class distribution:\", np.unique(y_test, return_counts=True))\n",
    "\n",
    "from imblearn.over_sampling import SMOTE\n",
    "\n",
    "smote = SMOTE(random_state=42)\n",
    "X_train_resampled, y_train_resampled = smote.fit_resample(X_train, y_train)\n",
    "\n",
    "# Check new class distribution\n",
    "print(\"Resampled class distribution:\", np.unique(y_train_resampled, return_counts=True))\n",
    "\n",
    "\n",
    "from sklearn.preprocessing import StandardScaler\n",
    "\n",
    "scaler = StandardScaler()\n",
    "X_train_resampled = scaler.fit_transform(X_train_resampled)  # Fit and transform training set\n",
    "X_test = scaler.transform(X_test)  # Only transform test set"
   ]
  },
  {
   "cell_type": "markdown",
   "id": "1dbfdbfa",
   "metadata": {
    "papermill": {
     "duration": 0.011775,
     "end_time": "2025-04-02T13:47:28.271800",
     "exception": false,
     "start_time": "2025-04-02T13:47:28.260025",
     "status": "completed"
    },
    "tags": []
   },
   "source": [
    "**Model: Random Forest**"
   ]
  },
  {
   "cell_type": "code",
   "execution_count": 16,
   "id": "a03787a8",
   "metadata": {
    "execution": {
     "iopub.execute_input": "2025-04-02T13:47:28.295408Z",
     "iopub.status.busy": "2025-04-02T13:47:28.294860Z",
     "iopub.status.idle": "2025-04-02T13:47:28.487649Z",
     "shell.execute_reply": "2025-04-02T13:47:28.486651Z"
    },
    "papermill": {
     "duration": 0.205862,
     "end_time": "2025-04-02T13:47:28.489559",
     "exception": false,
     "start_time": "2025-04-02T13:47:28.283697",
     "status": "completed"
    },
    "tags": []
   },
   "outputs": [],
   "source": [
    "# 7. Build and train the model (Random Forest in this case)\n",
    "from sklearn.ensemble import RandomForestClassifier\n",
    "\n",
    "rf_model = RandomForestClassifier(n_estimators=100, random_state=42)\n",
    "rf_model.fit(X_train_resampled, y_train_resampled)\n",
    "\n",
    "# Predict on test data\n",
    "y_test_pred = rf_model.predict(X_test)"
   ]
  },
  {
   "cell_type": "code",
   "execution_count": 17,
   "id": "dd4f6cbe",
   "metadata": {
    "execution": {
     "iopub.execute_input": "2025-04-02T13:47:28.511952Z",
     "iopub.status.busy": "2025-04-02T13:47:28.511613Z",
     "iopub.status.idle": "2025-04-02T13:47:28.773913Z",
     "shell.execute_reply": "2025-04-02T13:47:28.772774Z"
    },
    "papermill": {
     "duration": 0.275378,
     "end_time": "2025-04-02T13:47:28.775709",
     "exception": false,
     "start_time": "2025-04-02T13:47:28.500331",
     "status": "completed"
    },
    "tags": []
   },
   "outputs": [
    {
     "name": "stdout",
     "output_type": "stream",
     "text": [
      "Training Accuracy: 1.00\n",
      "Testing Accuracy: 1.00\n",
      "\n",
      "Classification Report:\n",
      "                 precision    recall  f1-score   support\n",
      "\n",
      "    Iris-setosa       1.00      1.00      1.00        10\n",
      "Iris-versicolor       1.00      1.00      1.00         9\n",
      " Iris-virginica       1.00      1.00      1.00        11\n",
      "\n",
      "       accuracy                           1.00        30\n",
      "      macro avg       1.00      1.00      1.00        30\n",
      "   weighted avg       1.00      1.00      1.00        30\n",
      "\n"
     ]
    },
    {
     "data": {
      "image/png": "[encoded data removed]",
      "text/plain": [
       "<Figure size 600x400 with 2 Axes>"
      ]
     },
     "metadata": {},
     "output_type": "display_data"
    },
    {
     "name": "stdout",
     "output_type": "stream",
     "text": [
      "Cohen's Kappa Score: 1.00\n",
      "Matthews Correlation Coefficient: 1.00\n"
     ]
    }
   ],
   "source": [
    "from sklearn.metrics import accuracy_score, classification_report, confusion_matrix, cohen_kappa_score, matthews_corrcoef\n",
    "import seaborn as sns\n",
    "import matplotlib.pyplot as plt\n",
    "\n",
    "# Accuracy Scores\n",
    "train_acc = rf_model.score(X_train_resampled, y_train_resampled)\n",
    "test_acc = accuracy_score(y_test, y_test_pred)\n",
    "\n",
    "print(f\"Training Accuracy: {train_acc:.2f}\")\n",
    "print(f\"Testing Accuracy: {test_acc:.2f}\")\n",
    "\n",
    "# Classification Report\n",
    "print(\"\\nClassification Report:\")\n",
    "print(classification_report(y_test, y_test_pred))\n",
    "\n",
    "# Confusion Matrix\n",
    "cm = confusion_matrix(y_test, y_test_pred)\n",
    "plt.figure(figsize=(6, 4))\n",
    "sns.heatmap(cm, annot=True, fmt=\"d\", cmap=\"Blues\", xticklabels=np.unique(y_test), yticklabels=np.unique(y_test))\n",
    "plt.title('Confusion Matrix')\n",
    "plt.xlabel('Predicted')\n",
    "plt.ylabel('Actual')\n",
    "plt.show()\n",
    "\n",
    "# Additional Metrics\n",
    "kappa_score = cohen_kappa_score(y_test, y_test_pred)\n",
    "mcc = matthews_corrcoef(y_test, y_test_pred)\n",
    "\n",
    "print(f\"Cohen's Kappa Score: {kappa_score:.2f}\")\n",
    "print(f\"Matthews Correlation Coefficient: {mcc:.2f}\")"
   ]
  },
  {
   "cell_type": "code",
   "execution_count": 18,
   "id": "c7076f9b",
   "metadata": {
    "execution": {
     "iopub.execute_input": "2025-04-02T13:47:28.799902Z",
     "iopub.status.busy": "2025-04-02T13:47:28.799583Z",
     "iopub.status.idle": "2025-04-02T13:47:28.958188Z",
     "shell.execute_reply": "2025-04-02T13:47:28.956719Z"
    },
    "papermill": {
     "duration": 0.172314,
     "end_time": "2025-04-02T13:47:28.959639",
     "exception": true,
     "start_time": "2025-04-02T13:47:28.787325",
     "status": "failed"
    },
    "tags": []
   },
   "outputs": [
    {
     "ename": "NameError",
     "evalue": "name 'model' is not defined",
     "output_type": "error",
     "traceback": [
      "\u001b[0;31m---------------------------------------------------------------------------\u001b[0m",
      "\u001b[0;31mNameError\u001b[0m                                 Traceback (most recent call last)",
      "\u001b[0;32m<ipython-input-18-c89239b21f7f>\u001b[0m in \u001b[0;36m<cell line: 2>\u001b[0;34m()\u001b[0m\n\u001b[1;32m      1\u001b[0m \u001b[0;31m# 8. Evaluate the model\u001b[0m\u001b[0;34m\u001b[0m\u001b[0;34m\u001b[0m\u001b[0m\n\u001b[0;32m----> 2\u001b[0;31m \u001b[0my_pred\u001b[0m \u001b[0;34m=\u001b[0m \u001b[0mmodel\u001b[0m\u001b[0;34m.\u001b[0m\u001b[0mpredict\u001b[0m\u001b[0;34m(\u001b[0m\u001b[0mX_test_scaled\u001b[0m\u001b[0;34m)\u001b[0m\u001b[0;34m\u001b[0m\u001b[0;34m\u001b[0m\u001b[0m\n\u001b[0m",
      "\u001b[0;31mNameError\u001b[0m: name 'model' is not defined"
     ]
    }
   ],
   "source": [
    "# 8. Evaluate the model\n",
    "y_pred = model.predict(X_test_scaled)"
   ]
  },
  {
   "cell_type": "code",
   "execution_count": null,
   "id": "bba27f39",
   "metadata": {
    "execution": {
     "iopub.execute_input": "2025-04-01T05:31:08.838758Z",
     "iopub.status.busy": "2025-04-01T05:31:08.838408Z",
     "iopub.status.idle": "2025-04-01T05:31:08.856565Z",
     "shell.execute_reply": "2025-04-01T05:31:08.855433Z",
     "shell.execute_reply.started": "2025-04-01T05:31:08.838727Z"
    },
    "papermill": {
     "duration": null,
     "end_time": null,
     "exception": null,
     "start_time": null,
     "status": "pending"
    },
    "tags": []
   },
   "outputs": [],
   "source": [
    "# Accuracy score\n",
    "accuracy = accuracy_score(y_test, y_pred)\n",
    "print(f\"Accuracy: {accuracy:.2f}\")"
   ]
  },
  {
   "cell_type": "code",
   "execution_count": null,
   "id": "b905e516",
   "metadata": {
    "execution": {
     "iopub.execute_input": "2025-04-01T05:31:08.857795Z",
     "iopub.status.busy": "2025-04-01T05:31:08.857478Z",
     "iopub.status.idle": "2025-04-01T05:31:09.094199Z",
     "shell.execute_reply": "2025-04-01T05:31:09.093080Z",
     "shell.execute_reply.started": "2025-04-01T05:31:08.857749Z"
    },
    "papermill": {
     "duration": null,
     "end_time": null,
     "exception": null,
     "start_time": null,
     "status": "pending"
    },
    "tags": []
   },
   "outputs": [],
   "source": [
    "# Plot ROC Curve (Receiver Operating Characteristic Curve)\n",
    "from sklearn.metrics import roc_curve, auc\n",
    "\n",
    "# Compute ROC curve and AUC\n",
    "fpr, tpr, _ = roc_curve(y_test, model.predict_proba(X_test_scaled)[:, 1], pos_label=1)\n",
    "roc_auc = auc(fpr, tpr)\n",
    "\n",
    "plt.figure(figsize=(8, 6))\n",
    "plt.plot(fpr, tpr, color='blue', lw=2, label='ROC curve (area = %0.2f)' % roc_auc)\n",
    "plt.plot([0, 1], [0, 1], color='gray', linestyle='--')\n",
    "plt.xlim([0.0, 1.0])\n",
    "plt.ylim([0.0, 1.05])\n",
    "plt.xlabel('False Positive Rate')\n",
    "plt.ylabel('True Positive Rate')\n",
    "plt.title('Receiver Operating Characteristic Curve')\n",
    "plt.legend(loc=\"lower right\")\n",
    "plt.show()"
   ]
  },
  {
   "cell_type": "code",
   "execution_count": null,
   "id": "0f4ad467",
   "metadata": {
    "execution": {
     "iopub.execute_input": "2025-04-01T05:31:09.095616Z",
     "iopub.status.busy": "2025-04-01T05:31:09.095260Z",
     "iopub.status.idle": "2025-04-01T05:31:09.124769Z",
     "shell.execute_reply": "2025-04-01T05:31:09.123646Z",
     "shell.execute_reply.started": "2025-04-01T05:31:09.095573Z"
    },
    "papermill": {
     "duration": null,
     "end_time": null,
     "exception": null,
     "start_time": null,
     "status": "pending"
    },
    "tags": []
   },
   "outputs": [],
   "source": [
    "from sklearn.metrics import accuracy_score\n",
    "\n",
    "# Compute Training Accuracy\n",
    "y_train_pred = model.predict(X_train)\n",
    "train_accuracy = accuracy_score(y_train, y_train_pred)\n",
    "\n",
    "# Compute Testing Accuracy\n",
    "y_test_pred = model.predict(X_test)\n",
    "test_accuracy = accuracy_score(y_test, y_test_pred)\n",
    "\n",
    "print(f\"Training Accuracy: {train_accuracy * 100:.2f}%\")\n",
    "print(f\"Testing Accuracy: {test_accuracy * 100:.2f}%\")"
   ]
  },
  {
   "cell_type": "code",
   "execution_count": null,
   "id": "9e830a47",
   "metadata": {
    "execution": {
     "iopub.execute_input": "2025-04-01T05:31:09.126315Z",
     "iopub.status.busy": "2025-04-01T05:31:09.125890Z",
     "iopub.status.idle": "2025-04-01T05:31:09.142042Z",
     "shell.execute_reply": "2025-04-01T05:31:09.140646Z",
     "shell.execute_reply.started": "2025-04-01T05:31:09.126276Z"
    },
    "papermill": {
     "duration": null,
     "end_time": null,
     "exception": null,
     "start_time": null,
     "status": "pending"
    },
    "tags": []
   },
   "outputs": [],
   "source": [
    "from sklearn.metrics import classification_report\n",
    "\n",
    "print(\"Classification Report:\")\n",
    "print(classification_report(y_test, y_test_pred, target_names=['Setosa', 'Versicolor', 'Virginica']))"
   ]
  },
  {
   "cell_type": "code",
   "execution_count": null,
   "id": "ce39be59",
   "metadata": {
    "execution": {
     "iopub.execute_input": "2025-04-01T05:31:09.143751Z",
     "iopub.status.busy": "2025-04-01T05:31:09.143357Z",
     "iopub.status.idle": "2025-04-01T05:31:09.394130Z",
     "shell.execute_reply": "2025-04-01T05:31:09.392774Z",
     "shell.execute_reply.started": "2025-04-01T05:31:09.143707Z"
    },
    "papermill": {
     "duration": null,
     "end_time": null,
     "exception": null,
     "start_time": null,
     "status": "pending"
    },
    "tags": []
   },
   "outputs": [],
   "source": [
    "from sklearn.metrics import confusion_matrix\n",
    "import seaborn as sns\n",
    "import matplotlib.pyplot as plt\n",
    "\n",
    "# Compute confusion matrix\n",
    "cm = confusion_matrix(y_test, y_test_pred)\n",
    "\n",
    "# Define class labels\n",
    "class_labels = ['Setosa', 'Versicolor', 'Virginica']\n",
    "\n",
    "# Plot confusion matrix\n",
    "plt.figure(figsize=(6, 4))\n",
    "sns.heatmap(cm, annot=True, fmt=\"d\", cmap=\"Blues\", xticklabels=class_labels, yticklabels=class_labels)\n",
    "plt.title('Confusion Matrix')\n",
    "plt.xlabel('Predicted Labels')\n",
    "plt.ylabel('Actual Labels')\n",
    "plt.show()"
   ]
  },
  {
   "cell_type": "code",
   "execution_count": null,
   "id": "5ed3ef88",
   "metadata": {
    "execution": {
     "iopub.execute_input": "2025-04-01T05:31:09.398617Z",
     "iopub.status.busy": "2025-04-01T05:31:09.398273Z",
     "iopub.status.idle": "2025-04-01T05:31:09.408050Z",
     "shell.execute_reply": "2025-04-01T05:31:09.406773Z",
     "shell.execute_reply.started": "2025-04-01T05:31:09.398586Z"
    },
    "papermill": {
     "duration": null,
     "end_time": null,
     "exception": null,
     "start_time": null,
     "status": "pending"
    },
    "tags": []
   },
   "outputs": [],
   "source": [
    "from sklearn.metrics import cohen_kappa_score, matthews_corrcoef\n",
    "\n",
    "kappa_score = cohen_kappa_score(y_test, y_test_pred)\n",
    "mcc = matthews_corrcoef(y_test, y_test_pred)\n",
    "\n",
    "print(f\"Cohen's Kappa Score: {kappa_score:.2f}\")\n",
    "print(f\"Matthews Correlation Coefficient: {mcc:.2f}\")"
   ]
  },
  {
   "cell_type": "code",
   "execution_count": null,
   "id": "3a4e32cf",
   "metadata": {
    "execution": {
     "iopub.execute_input": "2025-04-01T05:31:09.409730Z",
     "iopub.status.busy": "2025-04-01T05:31:09.409304Z",
     "iopub.status.idle": "2025-04-01T05:31:10.222450Z",
     "shell.execute_reply": "2025-04-01T05:31:10.221351Z",
     "shell.execute_reply.started": "2025-04-01T05:31:09.409615Z"
    },
    "papermill": {
     "duration": null,
     "end_time": null,
     "exception": null,
     "start_time": null,
     "status": "pending"
    },
    "tags": []
   },
   "outputs": [],
   "source": [
    "from sklearn.model_selection import cross_val_score\n",
    "\n",
    "cross_val_scores = cross_val_score(model, X_train, y_train, cv=5)  # 5-fold cross-validation\n",
    "print(f\"Cross-Validation Accuracy: {cross_val_scores.mean() * 100:.2f}%\")"
   ]
  }
 ],
 "metadata": {
  "kaggle": {
   "accelerator": "none",
   "dataSources": [
    {
     "datasetId": 17860,
     "sourceId": 23404,
     "sourceType": "datasetVersion"
    }
   ],
   "dockerImageVersionId": 30918,
   "isGpuEnabled": false,
   "isInternetEnabled": true,
   "language": "python",
   "sourceType": "notebook"
  },
  "kernelspec": {
   "display_name": "Python 3",
   "language": "python",
   "name": "python3"
  },
  "language_info": {
   "codemirror_mode": {
    "name": "ipython",
    "version": 3
   },
   "file_extension": ".py",
   "mimetype": "text/x-python",
   "name": "python",
   "nbconvert_exporter": "python",
   "pygments_lexer": "ipython3",
   "version": "3.10.12"
  },
  "papermill": {
   "default_parameters": {},
   "duration": 9.201848,
   "end_time": "2025-04-02T13:47:29.691460",
   "environment_variables": {},
   "exception": true,
   "input_path": "__notebook__.ipynb",
   "output_path": "__notebook__.ipynb",
   "parameters": {},
   "start_time": "2025-04-02T13:47:20.489612",
   "version": "2.6.0"
  }
 },
 "nbformat": 4,
 "nbformat_minor": 5
}

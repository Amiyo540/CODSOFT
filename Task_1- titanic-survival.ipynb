{
 "cells": [
  {
   "cell_type": "markdown",
   "id": "6dd59642",
   "metadata": {
    "papermill": {
     "duration": 0.006494,
     "end_time": "2025-03-20T04:10:55.307906",
     "exception": false,
     "start_time": "2025-03-20T04:10:55.301412",
     "status": "completed"
    },
    "tags": []
   },
   "source": [
    "**Import Library**"
   ]
  },
  {
   "cell_type": "code",
   "execution_count": 1,
   "id": "9e8de361",
   "metadata": {
    "execution": {
     "iopub.execute_input": "2025-03-20T04:10:55.320911Z",
     "iopub.status.busy": "2025-03-20T04:10:55.320488Z",
     "iopub.status.idle": "2025-03-20T04:10:58.313275Z",
     "shell.execute_reply": "2025-03-20T04:10:58.311934Z"
    },
    "papermill": {
     "duration": 3.001569,
     "end_time": "2025-03-20T04:10:58.315354",
     "exception": false,
     "start_time": "2025-03-20T04:10:55.313785",
     "status": "completed"
    },
    "tags": []
   },
   "outputs": [],
   "source": [
    "import pandas as pd\n",
    "import numpy as np\n",
    "import seaborn as sns\n",
    "import matplotlib.pyplot as plt\n",
    "from sklearn.model_selection import train_test_split\n",
    "from sklearn.preprocessing import LabelEncoder\n",
    "from sklearn.impute import SimpleImputer\n",
    "from sklearn.ensemble import RandomForestClassifier\n",
    "from sklearn.metrics import accuracy_score, classification_report"
   ]
  },
  {
   "cell_type": "markdown",
   "id": "68671d2c",
   "metadata": {
    "papermill": {
     "duration": 0.005393,
     "end_time": "2025-03-20T04:10:58.326934",
     "exception": false,
     "start_time": "2025-03-20T04:10:58.321541",
     "status": "completed"
    },
    "tags": []
   },
   "source": [
    "**Dataset Info**"
   ]
  },
  {
   "cell_type": "code",
   "execution_count": 2,
   "id": "4742f96f",
   "metadata": {
    "execution": {
     "iopub.execute_input": "2025-03-20T04:10:58.340696Z",
     "iopub.status.busy": "2025-03-20T04:10:58.340196Z",
     "iopub.status.idle": "2025-03-20T04:10:58.366213Z",
     "shell.execute_reply": "2025-03-20T04:10:58.365390Z"
    },
    "papermill": {
     "duration": 0.034492,
     "end_time": "2025-03-20T04:10:58.367921",
     "exception": false,
     "start_time": "2025-03-20T04:10:58.333429",
     "status": "completed"
    },
    "tags": []
   },
   "outputs": [],
   "source": [
    "# Load the dataset\n",
    "df = pd.read_csv('/kaggle/input/titanic-survival-dataset/Titanic-Dataset.csv')"
   ]
  },
  {
   "cell_type": "code",
   "execution_count": 3,
   "id": "da6b18b1",
   "metadata": {
    "execution": {
     "iopub.execute_input": "2025-03-20T04:10:58.380425Z",
     "iopub.status.busy": "2025-03-20T04:10:58.380128Z",
     "iopub.status.idle": "2025-03-20T04:10:58.410030Z",
     "shell.execute_reply": "2025-03-20T04:10:58.408587Z"
    },
    "papermill": {
     "duration": 0.037863,
     "end_time": "2025-03-20T04:10:58.411717",
     "exception": false,
     "start_time": "2025-03-20T04:10:58.373854",
     "status": "completed"
    },
    "tags": []
   },
   "outputs": [
    {
     "name": "stdout",
     "output_type": "stream",
     "text": [
      "<class 'pandas.core.frame.DataFrame'>\n",
      "RangeIndex: 891 entries, 0 to 890\n",
      "Data columns (total 12 columns):\n",
      " #   Column       Non-Null Count  Dtype  \n",
      "---  ------       --------------  -----  \n",
      " 0   PassengerId  891 non-null    int64  \n",
      " 1   Survived     891 non-null    int64  \n",
      " 2   Pclass       891 non-null    int64  \n",
      " 3   Name         891 non-null    object \n",
      " 4   Sex          891 non-null    object \n",
      " 5   Age          714 non-null    float64\n",
      " 6   SibSp        891 non-null    int64  \n",
      " 7   Parch        891 non-null    int64  \n",
      " 8   Ticket       891 non-null    object \n",
      " 9   Fare         891 non-null    float64\n",
      " 10  Cabin        204 non-null    object \n",
      " 11  Embarked     889 non-null    object \n",
      "dtypes: float64(2), int64(5), object(5)\n",
      "memory usage: 83.7+ KB\n",
      "None\n"
     ]
    }
   ],
   "source": [
    "# Display basic info about the dataset\n",
    "print(df.info())"
   ]
  },
  {
   "cell_type": "code",
   "execution_count": 4,
   "id": "73f71e6f",
   "metadata": {
    "execution": {
     "iopub.execute_input": "2025-03-20T04:10:58.424764Z",
     "iopub.status.busy": "2025-03-20T04:10:58.424387Z",
     "iopub.status.idle": "2025-03-20T04:10:58.438262Z",
     "shell.execute_reply": "2025-03-20T04:10:58.436969Z"
    },
    "papermill": {
     "duration": 0.022068,
     "end_time": "2025-03-20T04:10:58.439755",
     "exception": false,
     "start_time": "2025-03-20T04:10:58.417687",
     "status": "completed"
    },
    "tags": []
   },
   "outputs": [
    {
     "name": "stdout",
     "output_type": "stream",
     "text": [
      "   PassengerId  Survived  Pclass  \\\n",
      "0            1         0       3   \n",
      "1            2         1       1   \n",
      "2            3         1       3   \n",
      "3            4         1       1   \n",
      "4            5         0       3   \n",
      "\n",
      "                                                Name     Sex   Age  SibSp  \\\n",
      "0                            Braund, Mr. Owen Harris    male  22.0      1   \n",
      "1  Cumings, Mrs. John Bradley (Florence Briggs Th...  female  38.0      1   \n",
      "2                             Heikkinen, Miss. Laina  female  26.0      0   \n",
      "3       Futrelle, Mrs. Jacques Heath (Lily May Peel)  female  35.0      1   \n",
      "4                           Allen, Mr. William Henry    male  35.0      0   \n",
      "\n",
      "   Parch            Ticket     Fare Cabin Embarked  \n",
      "0      0         A/5 21171   7.2500   NaN        S  \n",
      "1      0          PC 17599  71.2833   C85        C  \n",
      "2      0  STON/O2. 3101282   7.9250   NaN        S  \n",
      "3      0            113803  53.1000  C123        S  \n",
      "4      0            373450   8.0500   NaN        S  \n"
     ]
    }
   ],
   "source": [
    "print(df.head())"
   ]
  },
  {
   "cell_type": "code",
   "execution_count": 5,
   "id": "194c0f34",
   "metadata": {
    "execution": {
     "iopub.execute_input": "2025-03-20T04:10:58.452820Z",
     "iopub.status.busy": "2025-03-20T04:10:58.452421Z",
     "iopub.status.idle": "2025-03-20T04:10:58.459321Z",
     "shell.execute_reply": "2025-03-20T04:10:58.458302Z"
    },
    "papermill": {
     "duration": 0.014996,
     "end_time": "2025-03-20T04:10:58.460733",
     "exception": false,
     "start_time": "2025-03-20T04:10:58.445737",
     "status": "completed"
    },
    "tags": []
   },
   "outputs": [
    {
     "name": "stdout",
     "output_type": "stream",
     "text": [
      "PassengerId      0\n",
      "Survived         0\n",
      "Pclass           0\n",
      "Name             0\n",
      "Sex              0\n",
      "Age            177\n",
      "SibSp            0\n",
      "Parch            0\n",
      "Ticket           0\n",
      "Fare             0\n",
      "Cabin          687\n",
      "Embarked         2\n",
      "dtype: int64\n"
     ]
    }
   ],
   "source": [
    "print(df.isnull().sum())"
   ]
  },
  {
   "cell_type": "markdown",
   "id": "2a7ecc52",
   "metadata": {
    "papermill": {
     "duration": 0.005631,
     "end_time": "2025-03-20T04:10:58.472437",
     "exception": false,
     "start_time": "2025-03-20T04:10:58.466806",
     "status": "completed"
    },
    "tags": []
   },
   "source": [
    "**Visualization of dataset**"
   ]
  },
  {
   "cell_type": "code",
   "execution_count": 6,
   "id": "caa7d3e0",
   "metadata": {
    "execution": {
     "iopub.execute_input": "2025-03-20T04:10:58.485199Z",
     "iopub.status.busy": "2025-03-20T04:10:58.484880Z",
     "iopub.status.idle": "2025-03-20T04:10:58.727796Z",
     "shell.execute_reply": "2025-03-20T04:10:58.726790Z"
    },
    "papermill": {
     "duration": 0.251038,
     "end_time": "2025-03-20T04:10:58.729280",
     "exception": false,
     "start_time": "2025-03-20T04:10:58.478242",
     "status": "completed"
    },
    "tags": []
   },
   "outputs": [
    {
     "data": {
      "image/png": "[encoded data removed]",
      "text/plain": [
       "<Figure size 800x600 with 1 Axes>"
      ]
     },
     "metadata": {},
     "output_type": "display_data"
    }
   ],
   "source": [
    "# Data Visualization\n",
    "plt.figure(figsize=(8, 6))\n",
    "sns.countplot(x='Survived', data=df, palette='coolwarm')\n",
    "plt.title('Survival Count')\n",
    "plt.show()"
   ]
  },
  {
   "cell_type": "code",
   "execution_count": 7,
   "id": "393d5343",
   "metadata": {
    "execution": {
     "iopub.execute_input": "2025-03-20T04:10:58.743053Z",
     "iopub.status.busy": "2025-03-20T04:10:58.742748Z",
     "iopub.status.idle": "2025-03-20T04:10:59.111809Z",
     "shell.execute_reply": "2025-03-20T04:10:59.110841Z"
    },
    "papermill": {
     "duration": 0.377568,
     "end_time": "2025-03-20T04:10:59.113369",
     "exception": false,
     "start_time": "2025-03-20T04:10:58.735801",
     "status": "completed"
    },
    "tags": []
   },
   "outputs": [
    {
     "name": "stderr",
     "output_type": "stream",
     "text": [
      "/usr/local/lib/python3.10/dist-packages/seaborn/_oldcore.py:1119: FutureWarning: use_inf_as_na option is deprecated and will be removed in a future version. Convert inf values to NaN before operating instead.\n",
      "  with pd.option_context('mode.use_inf_as_na', True):\n"
     ]
    },
    {
     "data": {
      "image/png": "[encoded data removed]",
      "text/plain": [
       "<Figure size 800x600 with 1 Axes>"
      ]
     },
     "metadata": {},
     "output_type": "display_data"
    }
   ],
   "source": [
    "plt.figure(figsize=(8, 6))\n",
    "sns.histplot(df['Age'].dropna(), bins=30, kde=True, color='blue')\n",
    "plt.title('Age Distribution')\n",
    "plt.show()"
   ]
  },
  {
   "cell_type": "code",
   "execution_count": 8,
   "id": "35bb9436",
   "metadata": {
    "execution": {
     "iopub.execute_input": "2025-03-20T04:10:59.128819Z",
     "iopub.status.busy": "2025-03-20T04:10:59.128457Z",
     "iopub.status.idle": "2025-03-20T04:10:59.316863Z",
     "shell.execute_reply": "2025-03-20T04:10:59.315817Z"
    },
    "papermill": {
     "duration": 0.197911,
     "end_time": "2025-03-20T04:10:59.318454",
     "exception": false,
     "start_time": "2025-03-20T04:10:59.120543",
     "status": "completed"
    },
    "tags": []
   },
   "outputs": [
    {
     "data": {
      "image/png": "[encoded data removed]",
      "text/plain": [
       "<Figure size 800x600 with 1 Axes>"
      ]
     },
     "metadata": {},
     "output_type": "display_data"
    }
   ],
   "source": [
    "plt.figure(figsize=(8, 6))\n",
    "sns.boxplot(x='Pclass', y='Age', data=df, palette='Set3')\n",
    "plt.title('Age vs Passenger Class')\n",
    "plt.show()"
   ]
  },
  {
   "cell_type": "markdown",
   "id": "1e3ad1cd",
   "metadata": {
    "papermill": {
     "duration": 0.007184,
     "end_time": "2025-03-20T04:10:59.333390",
     "exception": false,
     "start_time": "2025-03-20T04:10:59.326206",
     "status": "completed"
    },
    "tags": []
   },
   "source": [
    "**Data preprocesing and Imputation**"
   ]
  },
  {
   "cell_type": "code",
   "execution_count": 9,
   "id": "a6463239",
   "metadata": {
    "execution": {
     "iopub.execute_input": "2025-03-20T04:10:59.351034Z",
     "iopub.status.busy": "2025-03-20T04:10:59.350661Z",
     "iopub.status.idle": "2025-03-20T04:10:59.360995Z",
     "shell.execute_reply": "2025-03-20T04:10:59.360185Z"
    },
    "papermill": {
     "duration": 0.020113,
     "end_time": "2025-03-20T04:10:59.362494",
     "exception": false,
     "start_time": "2025-03-20T04:10:59.342381",
     "status": "completed"
    },
    "tags": []
   },
   "outputs": [],
   "source": [
    "# Fill missing values in 'Age' with median\n",
    "imputer = SimpleImputer(strategy='median')\n",
    "df['Age'] = imputer.fit_transform(df[['Age']])"
   ]
  },
  {
   "cell_type": "code",
   "execution_count": 10,
   "id": "8b53bc1a",
   "metadata": {
    "execution": {
     "iopub.execute_input": "2025-03-20T04:10:59.378576Z",
     "iopub.status.busy": "2025-03-20T04:10:59.378277Z",
     "iopub.status.idle": "2025-03-20T04:10:59.383663Z",
     "shell.execute_reply": "2025-03-20T04:10:59.382683Z"
    },
    "papermill": {
     "duration": 0.015264,
     "end_time": "2025-03-20T04:10:59.385259",
     "exception": false,
     "start_time": "2025-03-20T04:10:59.369995",
     "status": "completed"
    },
    "tags": []
   },
   "outputs": [
    {
     "name": "stdout",
     "output_type": "stream",
     "text": [
      "0\n"
     ]
    }
   ],
   "source": [
    "print(df['Age'].isnull().sum())"
   ]
  },
  {
   "cell_type": "code",
   "execution_count": 11,
   "id": "49a28f76",
   "metadata": {
    "execution": {
     "iopub.execute_input": "2025-03-20T04:10:59.401328Z",
     "iopub.status.busy": "2025-03-20T04:10:59.401019Z",
     "iopub.status.idle": "2025-03-20T04:10:59.406078Z",
     "shell.execute_reply": "2025-03-20T04:10:59.405232Z"
    },
    "papermill": {
     "duration": 0.014891,
     "end_time": "2025-03-20T04:10:59.407588",
     "exception": false,
     "start_time": "2025-03-20T04:10:59.392697",
     "status": "completed"
    },
    "tags": []
   },
   "outputs": [],
   "source": [
    "# Fill missing values in 'Embarked' with the most frequent value\n",
    "df.loc[:, 'Embarked'] = df['Embarked'].fillna(df['Embarked'].mode()[0])"
   ]
  },
  {
   "cell_type": "code",
   "execution_count": 12,
   "id": "107853dd",
   "metadata": {
    "execution": {
     "iopub.execute_input": "2025-03-20T04:10:59.424072Z",
     "iopub.status.busy": "2025-03-20T04:10:59.423716Z",
     "iopub.status.idle": "2025-03-20T04:10:59.429403Z",
     "shell.execute_reply": "2025-03-20T04:10:59.428275Z"
    },
    "papermill": {
     "duration": 0.015755,
     "end_time": "2025-03-20T04:10:59.431144",
     "exception": false,
     "start_time": "2025-03-20T04:10:59.415389",
     "status": "completed"
    },
    "tags": []
   },
   "outputs": [
    {
     "name": "stdout",
     "output_type": "stream",
     "text": [
      "0\n"
     ]
    }
   ],
   "source": [
    "print(df['Embarked'].isnull().sum())"
   ]
  },
  {
   "cell_type": "code",
   "execution_count": 13,
   "id": "87857bd6",
   "metadata": {
    "execution": {
     "iopub.execute_input": "2025-03-20T04:10:59.447915Z",
     "iopub.status.busy": "2025-03-20T04:10:59.447526Z",
     "iopub.status.idle": "2025-03-20T04:10:59.454388Z",
     "shell.execute_reply": "2025-03-20T04:10:59.453299Z"
    },
    "papermill": {
     "duration": 0.017046,
     "end_time": "2025-03-20T04:10:59.455965",
     "exception": false,
     "start_time": "2025-03-20T04:10:59.438919",
     "status": "completed"
    },
    "tags": []
   },
   "outputs": [
    {
     "name": "stdout",
     "output_type": "stream",
     "text": [
      "PassengerId      0\n",
      "Survived         0\n",
      "Pclass           0\n",
      "Name             0\n",
      "Sex              0\n",
      "Age              0\n",
      "SibSp            0\n",
      "Parch            0\n",
      "Ticket           0\n",
      "Fare             0\n",
      "Cabin          687\n",
      "Embarked         0\n",
      "dtype: int64\n"
     ]
    }
   ],
   "source": [
    "print(df.isnull().sum())"
   ]
  },
  {
   "cell_type": "code",
   "execution_count": 14,
   "id": "2b54ab10",
   "metadata": {
    "execution": {
     "iopub.execute_input": "2025-03-20T04:10:59.472845Z",
     "iopub.status.busy": "2025-03-20T04:10:59.472435Z",
     "iopub.status.idle": "2025-03-20T04:10:59.478912Z",
     "shell.execute_reply": "2025-03-20T04:10:59.478048Z"
    },
    "papermill": {
     "duration": 0.016464,
     "end_time": "2025-03-20T04:10:59.480405",
     "exception": false,
     "start_time": "2025-03-20T04:10:59.463941",
     "status": "completed"
    },
    "tags": []
   },
   "outputs": [],
   "source": [
    "# Drop 'Cabin' due to many missing values\n",
    "df.drop(columns=['Cabin', 'Ticket', 'Name', 'PassengerId'], inplace=True)"
   ]
  },
  {
   "cell_type": "code",
   "execution_count": 15,
   "id": "d04e826d",
   "metadata": {
    "execution": {
     "iopub.execute_input": "2025-03-20T04:10:59.496672Z",
     "iopub.status.busy": "2025-03-20T04:10:59.496303Z",
     "iopub.status.idle": "2025-03-20T04:10:59.502587Z",
     "shell.execute_reply": "2025-03-20T04:10:59.501566Z"
    },
    "papermill": {
     "duration": 0.015842,
     "end_time": "2025-03-20T04:10:59.503963",
     "exception": false,
     "start_time": "2025-03-20T04:10:59.488121",
     "status": "completed"
    },
    "tags": []
   },
   "outputs": [
    {
     "name": "stdout",
     "output_type": "stream",
     "text": [
      "Survived    0\n",
      "Pclass      0\n",
      "Sex         0\n",
      "Age         0\n",
      "SibSp       0\n",
      "Parch       0\n",
      "Fare        0\n",
      "Embarked    0\n",
      "dtype: int64\n"
     ]
    }
   ],
   "source": [
    "print(df.isnull().sum())"
   ]
  },
  {
   "cell_type": "code",
   "execution_count": 16,
   "id": "a7aacaf4",
   "metadata": {
    "execution": {
     "iopub.execute_input": "2025-03-20T04:10:59.520378Z",
     "iopub.status.busy": "2025-03-20T04:10:59.520062Z",
     "iopub.status.idle": "2025-03-20T04:10:59.538417Z",
     "shell.execute_reply": "2025-03-20T04:10:59.537387Z"
    },
    "papermill": {
     "duration": 0.028661,
     "end_time": "2025-03-20T04:10:59.540148",
     "exception": false,
     "start_time": "2025-03-20T04:10:59.511487",
     "status": "completed"
    },
    "tags": []
   },
   "outputs": [
    {
     "data": {
      "text/html": [
       "<div>\n",
       "<style scoped>\n",
       "    .dataframe tbody tr th:only-of-type {\n",
       "        vertical-align: middle;\n",
       "    }\n",
       "\n",
       "    .dataframe tbody tr th {\n",
       "        vertical-align: top;\n",
       "    }\n",
       "\n",
       "    .dataframe thead th {\n",
       "        text-align: right;\n",
       "    }\n",
       "</style>\n",
       "<table border=\"1\" class=\"dataframe\">\n",
       "  <thead>\n",
       "    <tr style=\"text-align: right;\">\n",
       "      <th></th>\n",
       "      <th>Survived</th>\n",
       "      <th>Pclass</th>\n",
       "      <th>Sex</th>\n",
       "      <th>Age</th>\n",
       "      <th>SibSp</th>\n",
       "      <th>Parch</th>\n",
       "      <th>Fare</th>\n",
       "      <th>Embarked</th>\n",
       "    </tr>\n",
       "  </thead>\n",
       "  <tbody>\n",
       "    <tr>\n",
       "      <th>0</th>\n",
       "      <td>0</td>\n",
       "      <td>3</td>\n",
       "      <td>male</td>\n",
       "      <td>22.0</td>\n",
       "      <td>1</td>\n",
       "      <td>0</td>\n",
       "      <td>7.2500</td>\n",
       "      <td>S</td>\n",
       "    </tr>\n",
       "    <tr>\n",
       "      <th>1</th>\n",
       "      <td>1</td>\n",
       "      <td>1</td>\n",
       "      <td>female</td>\n",
       "      <td>38.0</td>\n",
       "      <td>1</td>\n",
       "      <td>0</td>\n",
       "      <td>71.2833</td>\n",
       "      <td>C</td>\n",
       "    </tr>\n",
       "    <tr>\n",
       "      <th>2</th>\n",
       "      <td>1</td>\n",
       "      <td>3</td>\n",
       "      <td>female</td>\n",
       "      <td>26.0</td>\n",
       "      <td>0</td>\n",
       "      <td>0</td>\n",
       "      <td>7.9250</td>\n",
       "      <td>S</td>\n",
       "    </tr>\n",
       "    <tr>\n",
       "      <th>3</th>\n",
       "      <td>1</td>\n",
       "      <td>1</td>\n",
       "      <td>female</td>\n",
       "      <td>35.0</td>\n",
       "      <td>1</td>\n",
       "      <td>0</td>\n",
       "      <td>53.1000</td>\n",
       "      <td>S</td>\n",
       "    </tr>\n",
       "    <tr>\n",
       "      <th>4</th>\n",
       "      <td>0</td>\n",
       "      <td>3</td>\n",
       "      <td>male</td>\n",
       "      <td>35.0</td>\n",
       "      <td>0</td>\n",
       "      <td>0</td>\n",
       "      <td>8.0500</td>\n",
       "      <td>S</td>\n",
       "    </tr>\n",
       "  </tbody>\n",
       "</table>\n",
       "</div>"
      ],
      "text/plain": [
       "   Survived  Pclass     Sex   Age  SibSp  Parch     Fare Embarked\n",
       "0         0       3    male  22.0      1      0   7.2500        S\n",
       "1         1       1  female  38.0      1      0  71.2833        C\n",
       "2         1       3  female  26.0      0      0   7.9250        S\n",
       "3         1       1  female  35.0      1      0  53.1000        S\n",
       "4         0       3    male  35.0      0      0   8.0500        S"
      ]
     },
     "execution_count": 16,
     "metadata": {},
     "output_type": "execute_result"
    }
   ],
   "source": [
    "df.head()"
   ]
  },
  {
   "cell_type": "markdown",
   "id": "5dfafe27",
   "metadata": {
    "papermill": {
     "duration": 0.007555,
     "end_time": "2025-03-20T04:10:59.555881",
     "exception": false,
     "start_time": "2025-03-20T04:10:59.548326",
     "status": "completed"
    },
    "tags": []
   },
   "source": [
    "**Label Encoding**"
   ]
  },
  {
   "cell_type": "code",
   "execution_count": 17,
   "id": "d55304f5",
   "metadata": {
    "execution": {
     "iopub.execute_input": "2025-03-20T04:10:59.573099Z",
     "iopub.status.busy": "2025-03-20T04:10:59.572767Z",
     "iopub.status.idle": "2025-03-20T04:10:59.578573Z",
     "shell.execute_reply": "2025-03-20T04:10:59.577739Z"
    },
    "papermill": {
     "duration": 0.016595,
     "end_time": "2025-03-20T04:10:59.580397",
     "exception": false,
     "start_time": "2025-03-20T04:10:59.563802",
     "status": "completed"
    },
    "tags": []
   },
   "outputs": [],
   "source": [
    "# Convert categorical features to numerical\n",
    "le = LabelEncoder()\n",
    "df['Sex'] = le.fit_transform(df['Sex'])\n",
    "df['Embarked'] = le.fit_transform(df['Embarked'])"
   ]
  },
  {
   "cell_type": "markdown",
   "id": "87e3b6d5",
   "metadata": {
    "papermill": {
     "duration": 0.007628,
     "end_time": "2025-03-20T04:10:59.596529",
     "exception": false,
     "start_time": "2025-03-20T04:10:59.588901",
     "status": "completed"
    },
    "tags": []
   },
   "source": [
    "**Defining Feature and Targer variable**"
   ]
  },
  {
   "cell_type": "code",
   "execution_count": 18,
   "id": "07fa93d2",
   "metadata": {
    "execution": {
     "iopub.execute_input": "2025-03-20T04:10:59.613461Z",
     "iopub.status.busy": "2025-03-20T04:10:59.613097Z",
     "iopub.status.idle": "2025-03-20T04:10:59.618228Z",
     "shell.execute_reply": "2025-03-20T04:10:59.617380Z"
    },
    "papermill": {
     "duration": 0.015207,
     "end_time": "2025-03-20T04:10:59.619779",
     "exception": false,
     "start_time": "2025-03-20T04:10:59.604572",
     "status": "completed"
    },
    "tags": []
   },
   "outputs": [],
   "source": [
    "# Define features and target variable\n",
    "X = df.drop(columns=['Survived'])\n",
    "y = df['Survived']"
   ]
  },
  {
   "cell_type": "markdown",
   "id": "9ef2fcac",
   "metadata": {
    "papermill": {
     "duration": 0.00745,
     "end_time": "2025-03-20T04:10:59.635476",
     "exception": false,
     "start_time": "2025-03-20T04:10:59.628026",
     "status": "completed"
    },
    "tags": []
   },
   "source": [
    "**Split the train and test dataset**"
   ]
  },
  {
   "cell_type": "code",
   "execution_count": 19,
   "id": "44aab4f8",
   "metadata": {
    "execution": {
     "iopub.execute_input": "2025-03-20T04:10:59.651910Z",
     "iopub.status.busy": "2025-03-20T04:10:59.651530Z",
     "iopub.status.idle": "2025-03-20T04:10:59.658998Z",
     "shell.execute_reply": "2025-03-20T04:10:59.658169Z"
    },
    "papermill": {
     "duration": 0.017331,
     "end_time": "2025-03-20T04:10:59.660451",
     "exception": false,
     "start_time": "2025-03-20T04:10:59.643120",
     "status": "completed"
    },
    "tags": []
   },
   "outputs": [],
   "source": [
    "# Split dataset into training and testing sets\n",
    "X_train, X_test, y_train, y_test = train_test_split(X, y, test_size=0.2, random_state=42)"
   ]
  },
  {
   "cell_type": "code",
   "execution_count": 20,
   "id": "9592c9cc",
   "metadata": {
    "execution": {
     "iopub.execute_input": "2025-03-20T04:10:59.677079Z",
     "iopub.status.busy": "2025-03-20T04:10:59.676785Z",
     "iopub.status.idle": "2025-03-20T04:10:59.875260Z",
     "shell.execute_reply": "2025-03-20T04:10:59.874232Z"
    },
    "papermill": {
     "duration": 0.20875,
     "end_time": "2025-03-20T04:10:59.877107",
     "exception": false,
     "start_time": "2025-03-20T04:10:59.668357",
     "status": "completed"
    },
    "tags": []
   },
   "outputs": [
    {
     "data": {
      "text/html": [
       "<style>#sk-container-id-1 {color: black;background-color: white;}#sk-container-id-1 pre{padding: 0;}#sk-container-id-1 div.sk-toggleable {background-color: white;}#sk-container-id-1 label.sk-toggleable__label {cursor: pointer;display: block;width: 100%;margin-bottom: 0;padding: 0.3em;box-sizing: border-box;text-align: center;}#sk-container-id-1 label.sk-toggleable__label-arrow:before {content: \"▸\";float: left;margin-right: 0.25em;color: #696969;}#sk-container-id-1 label.sk-toggleable__label-arrow:hover:before {color: black;}#sk-container-id-1 div.sk-estimator:hover label.sk-toggleable__label-arrow:before {color: black;}#sk-container-id-1 div.sk-toggleable__content {max-height: 0;max-width: 0;overflow: hidden;text-align: left;background-color: #f0f8ff;}#sk-container-id-1 div.sk-toggleable__content pre {margin: 0.2em;color: black;border-radius: 0.25em;background-color: #f0f8ff;}#sk-container-id-1 input.sk-toggleable__control:checked~div.sk-toggleable__content {max-height: 200px;max-width: 100%;overflow: auto;}#sk-container-id-1 input.sk-toggleable__control:checked~label.sk-toggleable__label-arrow:before {content: \"▾\";}#sk-container-id-1 div.sk-estimator input.sk-toggleable__control:checked~label.sk-toggleable__label {background-color: #d4ebff;}#sk-container-id-1 div.sk-label input.sk-toggleable__control:checked~label.sk-toggleable__label {background-color: #d4ebff;}#sk-container-id-1 input.sk-hidden--visually {border: 0;clip: rect(1px 1px 1px 1px);clip: rect(1px, 1px, 1px, 1px);height: 1px;margin: -1px;overflow: hidden;padding: 0;position: absolute;width: 1px;}#sk-container-id-1 div.sk-estimator {font-family: monospace;background-color: #f0f8ff;border: 1px dotted black;border-radius: 0.25em;box-sizing: border-box;margin-bottom: 0.5em;}#sk-container-id-1 div.sk-estimator:hover {background-color: #d4ebff;}#sk-container-id-1 div.sk-parallel-item::after {content: \"\";width: 100%;border-bottom: 1px solid gray;flex-grow: 1;}#sk-container-id-1 div.sk-label:hover label.sk-toggleable__label {background-color: #d4ebff;}#sk-container-id-1 div.sk-serial::before {content: \"\";position: absolute;border-left: 1px solid gray;box-sizing: border-box;top: 0;bottom: 0;left: 50%;z-index: 0;}#sk-container-id-1 div.sk-serial {display: flex;flex-direction: column;align-items: center;background-color: white;padding-right: 0.2em;padding-left: 0.2em;position: relative;}#sk-container-id-1 div.sk-item {position: relative;z-index: 1;}#sk-container-id-1 div.sk-parallel {display: flex;align-items: stretch;justify-content: center;background-color: white;position: relative;}#sk-container-id-1 div.sk-item::before, #sk-container-id-1 div.sk-parallel-item::before {content: \"\";position: absolute;border-left: 1px solid gray;box-sizing: border-box;top: 0;bottom: 0;left: 50%;z-index: -1;}#sk-container-id-1 div.sk-parallel-item {display: flex;flex-direction: column;z-index: 1;position: relative;background-color: white;}#sk-container-id-1 div.sk-parallel-item:first-child::after {align-self: flex-end;width: 50%;}#sk-container-id-1 div.sk-parallel-item:last-child::after {align-self: flex-start;width: 50%;}#sk-container-id-1 div.sk-parallel-item:only-child::after {width: 0;}#sk-container-id-1 div.sk-dashed-wrapped {border: 1px dashed gray;margin: 0 0.4em 0.5em 0.4em;box-sizing: border-box;padding-bottom: 0.4em;background-color: white;}#sk-container-id-1 div.sk-label label {font-family: monospace;font-weight: bold;display: inline-block;line-height: 1.2em;}#sk-container-id-1 div.sk-label-container {text-align: center;}#sk-container-id-1 div.sk-container {/* jupyter's `normalize.less` sets `[hidden] { display: none; }` but bootstrap.min.css set `[hidden] { display: none !important; }` so we also need the `!important` here to be able to override the default hidden behavior on the sphinx rendered scikit-learn.org. See: https://github.com/scikit-learn/scikit-learn/issues/21755 */display: inline-block !important;position: relative;}#sk-container-id-1 div.sk-text-repr-fallback {display: none;}</style><div id=\"sk-container-id-1\" class=\"sk-top-container\"><div class=\"sk-text-repr-fallback\"><pre>RandomForestClassifier(random_state=42)</pre><b>In a Jupyter environment, please rerun this cell to show the HTML representation or trust the notebook. <br />On GitHub, the HTML representation is unable to render, please try loading this page with nbviewer.org.</b></div><div class=\"sk-container\" hidden><div class=\"sk-item\"><div class=\"sk-estimator sk-toggleable\"><input class=\"sk-toggleable__control sk-hidden--visually\" id=\"sk-estimator-id-1\" type=\"checkbox\" checked><label for=\"sk-estimator-id-1\" class=\"sk-toggleable__label sk-toggleable__label-arrow\">RandomForestClassifier</label><div class=\"sk-toggleable__content\"><pre>RandomForestClassifier(random_state=42)</pre></div></div></div></div></div>"
      ],
      "text/plain": [
       "RandomForestClassifier(random_state=42)"
      ]
     },
     "execution_count": 20,
     "metadata": {},
     "output_type": "execute_result"
    }
   ],
   "source": [
    "# Train a Random Forest Classifier\n",
    "model = RandomForestClassifier(n_estimators=100, random_state=42)\n",
    "model.fit(X_train, y_train)"
   ]
  },
  {
   "cell_type": "code",
   "execution_count": 21,
   "id": "f9fc4d31",
   "metadata": {
    "execution": {
     "iopub.execute_input": "2025-03-20T04:10:59.897482Z",
     "iopub.status.busy": "2025-03-20T04:10:59.897117Z",
     "iopub.status.idle": "2025-03-20T04:10:59.911737Z",
     "shell.execute_reply": "2025-03-20T04:10:59.910721Z"
    },
    "papermill": {
     "duration": 0.026773,
     "end_time": "2025-03-20T04:10:59.913191",
     "exception": false,
     "start_time": "2025-03-20T04:10:59.886418",
     "status": "completed"
    },
    "tags": []
   },
   "outputs": [],
   "source": [
    "# Make predictions\n",
    "y_pred = model.predict(X_test)"
   ]
  },
  {
   "cell_type": "code",
   "execution_count": 22,
   "id": "73fdda5c",
   "metadata": {
    "execution": {
     "iopub.execute_input": "2025-03-20T04:10:59.931597Z",
     "iopub.status.busy": "2025-03-20T04:10:59.931277Z",
     "iopub.status.idle": "2025-03-20T04:10:59.945778Z",
     "shell.execute_reply": "2025-03-20T04:10:59.944589Z"
    },
    "papermill": {
     "duration": 0.025857,
     "end_time": "2025-03-20T04:10:59.947393",
     "exception": false,
     "start_time": "2025-03-20T04:10:59.921536",
     "status": "completed"
    },
    "tags": []
   },
   "outputs": [
    {
     "name": "stdout",
     "output_type": "stream",
     "text": [
      "Accuracy: 0.82\n",
      "              precision    recall  f1-score   support\n",
      "\n",
      "           0       0.83      0.88      0.85       105\n",
      "           1       0.81      0.74      0.77        74\n",
      "\n",
      "    accuracy                           0.82       179\n",
      "   macro avg       0.82      0.81      0.81       179\n",
      "weighted avg       0.82      0.82      0.82       179\n",
      "\n"
     ]
    }
   ],
   "source": [
    "# Evaluate the model\n",
    "accuracy = accuracy_score(y_test, y_pred)\n",
    "print(f'Accuracy: {accuracy:.2f}')\n",
    "print(classification_report(y_test, y_pred))"
   ]
  },
  {
   "cell_type": "code",
   "execution_count": 23,
   "id": "92639fad",
   "metadata": {
    "execution": {
     "iopub.execute_input": "2025-03-20T04:10:59.965873Z",
     "iopub.status.busy": "2025-03-20T04:10:59.965461Z",
     "iopub.status.idle": "2025-03-20T04:11:00.177269Z",
     "shell.execute_reply": "2025-03-20T04:11:00.176229Z"
    },
    "papermill": {
     "duration": 0.222974,
     "end_time": "2025-03-20T04:11:00.179238",
     "exception": false,
     "start_time": "2025-03-20T04:10:59.956264",
     "status": "completed"
    },
    "tags": []
   },
   "outputs": [
    {
     "data": {
      "image/png": "[encoded data removed]",
      "text/plain": [
       "<Figure size 600x400 with 2 Axes>"
      ]
     },
     "metadata": {},
     "output_type": "display_data"
    }
   ],
   "source": [
    "# Confusion Matrix\n",
    "from sklearn.metrics import confusion_matrix\n",
    "import seaborn as sns\n",
    "conf_matrix = confusion_matrix(y_test, y_pred)\n",
    "plt.figure(figsize=(6, 4))\n",
    "sns.heatmap(conf_matrix, annot=True, fmt='d', cmap='Blues', xticklabels=['Not Survived', 'Survived'], yticklabels=['Not Survived', 'Survived'])\n",
    "plt.xlabel('Predicted')\n",
    "plt.ylabel('Actual')\n",
    "plt.title('Confusion Matrix')\n",
    "plt.show()"
   ]
  },
  {
   "cell_type": "code",
   "execution_count": 24,
   "id": "5caa4203",
   "metadata": {
    "execution": {
     "iopub.execute_input": "2025-03-20T04:11:00.198659Z",
     "iopub.status.busy": "2025-03-20T04:11:00.198301Z",
     "iopub.status.idle": "2025-03-20T04:11:00.211317Z",
     "shell.execute_reply": "2025-03-20T04:11:00.210302Z"
    },
    "papermill": {
     "duration": 0.024408,
     "end_time": "2025-03-20T04:11:00.212989",
     "exception": false,
     "start_time": "2025-03-20T04:11:00.188581",
     "status": "completed"
    },
    "tags": []
   },
   "outputs": [
    {
     "name": "stdout",
     "output_type": "stream",
     "text": [
      "Predicted Survival: Not Survived\n"
     ]
    },
    {
     "name": "stderr",
     "output_type": "stream",
     "text": [
      "/usr/local/lib/python3.10/dist-packages/sklearn/base.py:439: UserWarning: X does not have valid feature names, but RandomForestClassifier was fitted with feature names\n",
      "  warnings.warn(\n"
     ]
    }
   ],
   "source": [
    "sample = np.array([[3, 1, 22.0, 1, 0, 7.25, 1]])  # Example: 3rd class, male, age 22, etc.\n",
    "prediction = model.predict(sample)\n",
    "print(\"Predicted Survival:\", \"Survived\" if prediction[0] == 1 else \"Not Survived\")"
   ]
  },
  {
   "cell_type": "code",
   "execution_count": 25,
   "id": "6df88f43",
   "metadata": {
    "execution": {
     "iopub.execute_input": "2025-03-20T04:11:00.232427Z",
     "iopub.status.busy": "2025-03-20T04:11:00.232075Z",
     "iopub.status.idle": "2025-03-20T04:11:00.247925Z",
     "shell.execute_reply": "2025-03-20T04:11:00.246783Z"
    },
    "papermill": {
     "duration": 0.027324,
     "end_time": "2025-03-20T04:11:00.249480",
     "exception": false,
     "start_time": "2025-03-20T04:11:00.222156",
     "status": "completed"
    },
    "tags": []
   },
   "outputs": [
    {
     "name": "stdout",
     "output_type": "stream",
     "text": [
      "Predicted Survival: Survived\n"
     ]
    },
    {
     "name": "stderr",
     "output_type": "stream",
     "text": [
      "/usr/local/lib/python3.10/dist-packages/sklearn/base.py:439: UserWarning: X does not have valid feature names, but RandomForestClassifier was fitted with feature names\n",
      "  warnings.warn(\n"
     ]
    }
   ],
   "source": [
    "# Predict survival for a new passenger\n",
    "sample = np.array([[1, 0, 35.0, 0, 1, 53.10, 2]])  # Example: 1st class, female, age 35, alone, fare 53.10, embarked 'S'\n",
    "prediction = model.predict(sample)\n",
    "\n",
    "# Print the result\n",
    "print(\"Predicted Survival:\", \"Survived\" if prediction[0] == 1 else \"Not Survived\")"
   ]
  }
 ],
 "metadata": {
  "kaggle": {
   "accelerator": "none",
   "dataSources": [
    {
     "datasetId": 6908257,
     "sourceId": 11083926,
     "sourceType": "datasetVersion"
    }
   ],
   "dockerImageVersionId": 30918,
   "isGpuEnabled": false,
   "isInternetEnabled": true,
   "language": "python",
   "sourceType": "notebook"
  },
  "kernelspec": {
   "display_name": "Python 3",
   "language": "python",
   "name": "python3"
  },
  "language_info": {
   "codemirror_mode": {
    "name": "ipython",
    "version": 3
   },
   "file_extension": ".py",
   "mimetype": "text/x-python",
   "name": "python",
   "nbconvert_exporter": "python",
   "pygments_lexer": "ipython3",
   "version": "3.10.12"
  },
  "papermill": {
   "default_parameters": {},
   "duration": 8.305824,
   "end_time": "2025-03-20T04:11:00.980671",
   "environment_variables": {},
   "exception": null,
   "input_path": "__notebook__.ipynb",
   "output_path": "__notebook__.ipynb",
   "parameters": {},
   "start_time": "2025-03-20T04:10:52.674847",
   "version": "2.6.0"
  }
 },
 "nbformat": 4,
 "nbformat_minor": 5
}
